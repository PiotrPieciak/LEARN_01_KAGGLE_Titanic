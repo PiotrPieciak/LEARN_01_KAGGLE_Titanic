{
 "cells": [
  {
   "cell_type": "markdown",
   "id": "eef871b7-2a74-42c9-a511-61e805aaf283",
   "metadata": {},
   "source": [
    "# LEARN_01_KAGGLE_Titanic_dataset \n",
    "#### The main task is to compare RandomForest, LogisticRegression and Neural Network on Titanic Dataset from KAGGLE website. Titanic dataset contains 12 columns with different passenger data. Passernger count is 891. One of the columns (\"Survived\") contains information whether a given passenger survived the sinking (value 1) or not (value 0). The task is to train models that will be able to estimate as accurately as possible whether a given passenger will survive the disaster based on the test data (maximum F1 Score for the group of survivors)"
   ]
  },
  {
   "cell_type": "markdown",
   "id": "fa770964-0e30-4b06-9667-bd784e3cd4d2",
   "metadata": {},
   "source": [
    "#### Import of necessary libraries"
   ]
  },
  {
   "cell_type": "code",
   "execution_count": 1,
   "id": "99b61edd-5fa2-4a74-a9b5-ac0b3ba68bb7",
   "metadata": {},
   "outputs": [],
   "source": [
    "import numpy as np\n",
    "import pandas as pd\n",
    "import matplotlib.pyplot as plt\n",
    "import seaborn as sns\n",
    "from sklearn.model_selection import GridSearchCV, train_test_split\n",
    "from sklearn.preprocessing import StandardScaler, OneHotEncoder\n",
    "from sklearn.decomposition import PCA\n",
    "from sklearn.linear_model import LogisticRegression\n",
    "from sklearn.metrics import classification_report, confusion_matrix, f1_score,  make_scorer\n",
    "from sklearn.ensemble import RandomForestClassifier\n",
    "from sklearn.compose import ColumnTransformer\n",
    "from sklearn.impute import SimpleImputer\n",
    "from sklearn.pipeline import Pipeline\n",
    "from sklearn.base import BaseEstimator, TransformerMixin\n",
    "from imblearn.over_sampling import SMOTE\n",
    "import tensorflow as tf\n",
    "from tensorflow.keras import Sequential\n",
    "from tensorflow.keras.layers import Dense, Dropout\n",
    "from tensorflow.keras.optimizers import Adam"
   ]
  },
  {
   "cell_type": "markdown",
   "id": "7af49bdf-e17b-4f78-bef0-89b751cdce16",
   "metadata": {},
   "source": [
    "#### Data import from csv file"
   ]
  },
  {
   "cell_type": "code",
   "execution_count": 2,
   "id": "9ab30bde-ba7e-4c96-9697-467f42b3bcdb",
   "metadata": {
    "scrolled": true
   },
   "outputs": [
    {
     "data": {
      "text/html": [
       "<div>\n",
       "<style scoped>\n",
       "    .dataframe tbody tr th:only-of-type {\n",
       "        vertical-align: middle;\n",
       "    }\n",
       "\n",
       "    .dataframe tbody tr th {\n",
       "        vertical-align: top;\n",
       "    }\n",
       "\n",
       "    .dataframe thead th {\n",
       "        text-align: right;\n",
       "    }\n",
       "</style>\n",
       "<table border=\"1\" class=\"dataframe\">\n",
       "  <thead>\n",
       "    <tr style=\"text-align: right;\">\n",
       "      <th></th>\n",
       "      <th>PassengerId</th>\n",
       "      <th>Survived</th>\n",
       "      <th>Pclass</th>\n",
       "      <th>Name</th>\n",
       "      <th>Sex</th>\n",
       "      <th>Age</th>\n",
       "      <th>SibSp</th>\n",
       "      <th>Parch</th>\n",
       "      <th>Ticket</th>\n",
       "      <th>Fare</th>\n",
       "      <th>Cabin</th>\n",
       "      <th>Embarked</th>\n",
       "    </tr>\n",
       "  </thead>\n",
       "  <tbody>\n",
       "    <tr>\n",
       "      <th>0</th>\n",
       "      <td>1</td>\n",
       "      <td>0</td>\n",
       "      <td>3</td>\n",
       "      <td>Braund, Mr. Owen Harris</td>\n",
       "      <td>male</td>\n",
       "      <td>22.0</td>\n",
       "      <td>1</td>\n",
       "      <td>0</td>\n",
       "      <td>A/5 21171</td>\n",
       "      <td>7.2500</td>\n",
       "      <td>NaN</td>\n",
       "      <td>S</td>\n",
       "    </tr>\n",
       "    <tr>\n",
       "      <th>1</th>\n",
       "      <td>2</td>\n",
       "      <td>1</td>\n",
       "      <td>1</td>\n",
       "      <td>Cumings, Mrs. John Bradley (Florence Briggs Th...</td>\n",
       "      <td>female</td>\n",
       "      <td>38.0</td>\n",
       "      <td>1</td>\n",
       "      <td>0</td>\n",
       "      <td>PC 17599</td>\n",
       "      <td>71.2833</td>\n",
       "      <td>C85</td>\n",
       "      <td>C</td>\n",
       "    </tr>\n",
       "    <tr>\n",
       "      <th>2</th>\n",
       "      <td>3</td>\n",
       "      <td>1</td>\n",
       "      <td>3</td>\n",
       "      <td>Heikkinen, Miss. Laina</td>\n",
       "      <td>female</td>\n",
       "      <td>26.0</td>\n",
       "      <td>0</td>\n",
       "      <td>0</td>\n",
       "      <td>STON/O2. 3101282</td>\n",
       "      <td>7.9250</td>\n",
       "      <td>NaN</td>\n",
       "      <td>S</td>\n",
       "    </tr>\n",
       "    <tr>\n",
       "      <th>3</th>\n",
       "      <td>4</td>\n",
       "      <td>1</td>\n",
       "      <td>1</td>\n",
       "      <td>Futrelle, Mrs. Jacques Heath (Lily May Peel)</td>\n",
       "      <td>female</td>\n",
       "      <td>35.0</td>\n",
       "      <td>1</td>\n",
       "      <td>0</td>\n",
       "      <td>113803</td>\n",
       "      <td>53.1000</td>\n",
       "      <td>C123</td>\n",
       "      <td>S</td>\n",
       "    </tr>\n",
       "    <tr>\n",
       "      <th>4</th>\n",
       "      <td>5</td>\n",
       "      <td>0</td>\n",
       "      <td>3</td>\n",
       "      <td>Allen, Mr. William Henry</td>\n",
       "      <td>male</td>\n",
       "      <td>35.0</td>\n",
       "      <td>0</td>\n",
       "      <td>0</td>\n",
       "      <td>373450</td>\n",
       "      <td>8.0500</td>\n",
       "      <td>NaN</td>\n",
       "      <td>S</td>\n",
       "    </tr>\n",
       "    <tr>\n",
       "      <th>...</th>\n",
       "      <td>...</td>\n",
       "      <td>...</td>\n",
       "      <td>...</td>\n",
       "      <td>...</td>\n",
       "      <td>...</td>\n",
       "      <td>...</td>\n",
       "      <td>...</td>\n",
       "      <td>...</td>\n",
       "      <td>...</td>\n",
       "      <td>...</td>\n",
       "      <td>...</td>\n",
       "      <td>...</td>\n",
       "    </tr>\n",
       "    <tr>\n",
       "      <th>886</th>\n",
       "      <td>887</td>\n",
       "      <td>0</td>\n",
       "      <td>2</td>\n",
       "      <td>Montvila, Rev. Juozas</td>\n",
       "      <td>male</td>\n",
       "      <td>27.0</td>\n",
       "      <td>0</td>\n",
       "      <td>0</td>\n",
       "      <td>211536</td>\n",
       "      <td>13.0000</td>\n",
       "      <td>NaN</td>\n",
       "      <td>S</td>\n",
       "    </tr>\n",
       "    <tr>\n",
       "      <th>887</th>\n",
       "      <td>888</td>\n",
       "      <td>1</td>\n",
       "      <td>1</td>\n",
       "      <td>Graham, Miss. Margaret Edith</td>\n",
       "      <td>female</td>\n",
       "      <td>19.0</td>\n",
       "      <td>0</td>\n",
       "      <td>0</td>\n",
       "      <td>112053</td>\n",
       "      <td>30.0000</td>\n",
       "      <td>B42</td>\n",
       "      <td>S</td>\n",
       "    </tr>\n",
       "    <tr>\n",
       "      <th>888</th>\n",
       "      <td>889</td>\n",
       "      <td>0</td>\n",
       "      <td>3</td>\n",
       "      <td>Johnston, Miss. Catherine Helen \"Carrie\"</td>\n",
       "      <td>female</td>\n",
       "      <td>NaN</td>\n",
       "      <td>1</td>\n",
       "      <td>2</td>\n",
       "      <td>W./C. 6607</td>\n",
       "      <td>23.4500</td>\n",
       "      <td>NaN</td>\n",
       "      <td>S</td>\n",
       "    </tr>\n",
       "    <tr>\n",
       "      <th>889</th>\n",
       "      <td>890</td>\n",
       "      <td>1</td>\n",
       "      <td>1</td>\n",
       "      <td>Behr, Mr. Karl Howell</td>\n",
       "      <td>male</td>\n",
       "      <td>26.0</td>\n",
       "      <td>0</td>\n",
       "      <td>0</td>\n",
       "      <td>111369</td>\n",
       "      <td>30.0000</td>\n",
       "      <td>C148</td>\n",
       "      <td>C</td>\n",
       "    </tr>\n",
       "    <tr>\n",
       "      <th>890</th>\n",
       "      <td>891</td>\n",
       "      <td>0</td>\n",
       "      <td>3</td>\n",
       "      <td>Dooley, Mr. Patrick</td>\n",
       "      <td>male</td>\n",
       "      <td>32.0</td>\n",
       "      <td>0</td>\n",
       "      <td>0</td>\n",
       "      <td>370376</td>\n",
       "      <td>7.7500</td>\n",
       "      <td>NaN</td>\n",
       "      <td>Q</td>\n",
       "    </tr>\n",
       "  </tbody>\n",
       "</table>\n",
       "<p>891 rows × 12 columns</p>\n",
       "</div>"
      ],
      "text/plain": [
       "     PassengerId  Survived  Pclass  \\\n",
       "0              1         0       3   \n",
       "1              2         1       1   \n",
       "2              3         1       3   \n",
       "3              4         1       1   \n",
       "4              5         0       3   \n",
       "..           ...       ...     ...   \n",
       "886          887         0       2   \n",
       "887          888         1       1   \n",
       "888          889         0       3   \n",
       "889          890         1       1   \n",
       "890          891         0       3   \n",
       "\n",
       "                                                  Name     Sex   Age  SibSp  \\\n",
       "0                              Braund, Mr. Owen Harris    male  22.0      1   \n",
       "1    Cumings, Mrs. John Bradley (Florence Briggs Th...  female  38.0      1   \n",
       "2                               Heikkinen, Miss. Laina  female  26.0      0   \n",
       "3         Futrelle, Mrs. Jacques Heath (Lily May Peel)  female  35.0      1   \n",
       "4                             Allen, Mr. William Henry    male  35.0      0   \n",
       "..                                                 ...     ...   ...    ...   \n",
       "886                              Montvila, Rev. Juozas    male  27.0      0   \n",
       "887                       Graham, Miss. Margaret Edith  female  19.0      0   \n",
       "888           Johnston, Miss. Catherine Helen \"Carrie\"  female   NaN      1   \n",
       "889                              Behr, Mr. Karl Howell    male  26.0      0   \n",
       "890                                Dooley, Mr. Patrick    male  32.0      0   \n",
       "\n",
       "     Parch            Ticket     Fare Cabin Embarked  \n",
       "0        0         A/5 21171   7.2500   NaN        S  \n",
       "1        0          PC 17599  71.2833   C85        C  \n",
       "2        0  STON/O2. 3101282   7.9250   NaN        S  \n",
       "3        0            113803  53.1000  C123        S  \n",
       "4        0            373450   8.0500   NaN        S  \n",
       "..     ...               ...      ...   ...      ...  \n",
       "886      0            211536  13.0000   NaN        S  \n",
       "887      0            112053  30.0000   B42        S  \n",
       "888      2        W./C. 6607  23.4500   NaN        S  \n",
       "889      0            111369  30.0000  C148        C  \n",
       "890      0            370376   7.7500   NaN        Q  \n",
       "\n",
       "[891 rows x 12 columns]"
      ]
     },
     "execution_count": 2,
     "metadata": {},
     "output_type": "execute_result"
    }
   ],
   "source": [
    "titanic_dataset = pd.read_csv('Titanic-Dataset.csv')\n",
    "titanic_dataset"
   ]
  },
  {
   "cell_type": "markdown",
   "id": "8c484e06-0d1b-457f-8ec8-4867d5bbf40f",
   "metadata": {},
   "source": [
    "### VARIABLE DESCRIPTIONS\n",
    "#### Pclass - Passenger Class (1 = 1st; 2 = 2nd; 3 = 3rd)\n",
    "#### survival - Survival (0 = No; 1 = Yes)\n",
    "#### name - Name\n",
    "#### sex - Sex\n",
    "#### age - Age\n",
    "#### sibsp - Number of Siblings/Spouses Aboard\n",
    "#### parch - Number of Parents/Children Aboard\n",
    "#### ticket - Ticket Number\n",
    "#### fare - Passenger Fare (British pound)\n",
    "#### cabin - Cabin\n",
    "#### embarked - Port of Embarkation (C = Cherbourg; Q = Queenstown; S = Southampton)"
   ]
  },
  {
   "cell_type": "markdown",
   "id": "9c8bae03-b011-405e-9059-c30b23d1f1e6",
   "metadata": {},
   "source": [
    "#### PassengerId, Ticket number columns have no relevant information for analysis. Can be dropped."
   ]
  },
  {
   "cell_type": "code",
   "execution_count": 3,
   "id": "1f3707f7-8e77-44a9-9b54-70cc331f593e",
   "metadata": {},
   "outputs": [],
   "source": [
    "titanic_dataset.drop(['PassengerId'], axis=1, inplace=True)\n",
    "titanic_dataset.drop(['Ticket'], axis=1, inplace=True)"
   ]
  },
  {
   "cell_type": "markdown",
   "id": "0f20c755-6273-423d-aa03-2ef0a5f6325d",
   "metadata": {},
   "source": [
    "#### Checking of null values in dataset. There are  missing approx 20% of age data, approx 77% of cabin number and approx. 0.2% of Embarked data"
   ]
  },
  {
   "cell_type": "code",
   "execution_count": 4,
   "id": "02d316ab-60df-4630-ae9e-6045167a5bd6",
   "metadata": {},
   "outputs": [
    {
     "data": {
      "text/plain": [
       "Survived    0.000000\n",
       "Pclass      0.000000\n",
       "Name        0.000000\n",
       "Sex         0.000000\n",
       "Age         0.198653\n",
       "SibSp       0.000000\n",
       "Parch       0.000000\n",
       "Fare        0.000000\n",
       "Cabin       0.771044\n",
       "Embarked    0.002245\n",
       "dtype: float64"
      ]
     },
     "execution_count": 4,
     "metadata": {},
     "output_type": "execute_result"
    }
   ],
   "source": [
    "titanic_dataset.isnull().mean()"
   ]
  },
  {
   "cell_type": "markdown",
   "id": "49d3c4be-8261-4042-be3f-1b912c03f2c2",
   "metadata": {},
   "source": [
    "#### Checking for duplicates"
   ]
  },
  {
   "cell_type": "code",
   "execution_count": 5,
   "id": "29235ccb-6aa2-46b1-880d-ecf12676c534",
   "metadata": {},
   "outputs": [
    {
     "data": {
      "text/plain": [
       "False"
      ]
     },
     "execution_count": 5,
     "metadata": {},
     "output_type": "execute_result"
    }
   ],
   "source": [
    "titanic_dataset.duplicated().any()"
   ]
  },
  {
   "cell_type": "markdown",
   "id": "53e50f26-8de5-436d-ab65-02295c989c11",
   "metadata": {},
   "source": [
    "#### Display basic descriptive statistics for numeric data"
   ]
  },
  {
   "cell_type": "code",
   "execution_count": 6,
   "id": "47d97df2-d97f-4d90-997a-a17bea762c98",
   "metadata": {},
   "outputs": [
    {
     "data": {
      "text/html": [
       "<div>\n",
       "<style scoped>\n",
       "    .dataframe tbody tr th:only-of-type {\n",
       "        vertical-align: middle;\n",
       "    }\n",
       "\n",
       "    .dataframe tbody tr th {\n",
       "        vertical-align: top;\n",
       "    }\n",
       "\n",
       "    .dataframe thead th {\n",
       "        text-align: right;\n",
       "    }\n",
       "</style>\n",
       "<table border=\"1\" class=\"dataframe\">\n",
       "  <thead>\n",
       "    <tr style=\"text-align: right;\">\n",
       "      <th></th>\n",
       "      <th>Survived</th>\n",
       "      <th>Pclass</th>\n",
       "      <th>Age</th>\n",
       "      <th>SibSp</th>\n",
       "      <th>Parch</th>\n",
       "      <th>Fare</th>\n",
       "    </tr>\n",
       "  </thead>\n",
       "  <tbody>\n",
       "    <tr>\n",
       "      <th>count</th>\n",
       "      <td>891.000000</td>\n",
       "      <td>891.000000</td>\n",
       "      <td>714.000000</td>\n",
       "      <td>891.000000</td>\n",
       "      <td>891.000000</td>\n",
       "      <td>891.000000</td>\n",
       "    </tr>\n",
       "    <tr>\n",
       "      <th>mean</th>\n",
       "      <td>0.383838</td>\n",
       "      <td>2.308642</td>\n",
       "      <td>29.699118</td>\n",
       "      <td>0.523008</td>\n",
       "      <td>0.381594</td>\n",
       "      <td>32.204208</td>\n",
       "    </tr>\n",
       "    <tr>\n",
       "      <th>std</th>\n",
       "      <td>0.486592</td>\n",
       "      <td>0.836071</td>\n",
       "      <td>14.526497</td>\n",
       "      <td>1.102743</td>\n",
       "      <td>0.806057</td>\n",
       "      <td>49.693429</td>\n",
       "    </tr>\n",
       "    <tr>\n",
       "      <th>min</th>\n",
       "      <td>0.000000</td>\n",
       "      <td>1.000000</td>\n",
       "      <td>0.420000</td>\n",
       "      <td>0.000000</td>\n",
       "      <td>0.000000</td>\n",
       "      <td>0.000000</td>\n",
       "    </tr>\n",
       "    <tr>\n",
       "      <th>25%</th>\n",
       "      <td>0.000000</td>\n",
       "      <td>2.000000</td>\n",
       "      <td>20.125000</td>\n",
       "      <td>0.000000</td>\n",
       "      <td>0.000000</td>\n",
       "      <td>7.910400</td>\n",
       "    </tr>\n",
       "    <tr>\n",
       "      <th>50%</th>\n",
       "      <td>0.000000</td>\n",
       "      <td>3.000000</td>\n",
       "      <td>28.000000</td>\n",
       "      <td>0.000000</td>\n",
       "      <td>0.000000</td>\n",
       "      <td>14.454200</td>\n",
       "    </tr>\n",
       "    <tr>\n",
       "      <th>75%</th>\n",
       "      <td>1.000000</td>\n",
       "      <td>3.000000</td>\n",
       "      <td>38.000000</td>\n",
       "      <td>1.000000</td>\n",
       "      <td>0.000000</td>\n",
       "      <td>31.000000</td>\n",
       "    </tr>\n",
       "    <tr>\n",
       "      <th>max</th>\n",
       "      <td>1.000000</td>\n",
       "      <td>3.000000</td>\n",
       "      <td>80.000000</td>\n",
       "      <td>8.000000</td>\n",
       "      <td>6.000000</td>\n",
       "      <td>512.329200</td>\n",
       "    </tr>\n",
       "  </tbody>\n",
       "</table>\n",
       "</div>"
      ],
      "text/plain": [
       "         Survived      Pclass         Age       SibSp       Parch        Fare\n",
       "count  891.000000  891.000000  714.000000  891.000000  891.000000  891.000000\n",
       "mean     0.383838    2.308642   29.699118    0.523008    0.381594   32.204208\n",
       "std      0.486592    0.836071   14.526497    1.102743    0.806057   49.693429\n",
       "min      0.000000    1.000000    0.420000    0.000000    0.000000    0.000000\n",
       "25%      0.000000    2.000000   20.125000    0.000000    0.000000    7.910400\n",
       "50%      0.000000    3.000000   28.000000    0.000000    0.000000   14.454200\n",
       "75%      1.000000    3.000000   38.000000    1.000000    0.000000   31.000000\n",
       "max      1.000000    3.000000   80.000000    8.000000    6.000000  512.329200"
      ]
     },
     "execution_count": 6,
     "metadata": {},
     "output_type": "execute_result"
    }
   ],
   "source": [
    "titanic_dataset.describe()"
   ]
  },
  {
   "cell_type": "markdown",
   "id": "8a302b3a-2315-487a-92f0-19cb8d82a117",
   "metadata": {},
   "source": [
    "#### Prepare copy of the dataset to be able to recover oryginal data without additional file access"
   ]
  },
  {
   "cell_type": "code",
   "execution_count": 7,
   "id": "49f8ca6a-66df-4615-8b0a-91b2384b2187",
   "metadata": {},
   "outputs": [],
   "source": [
    "titanic = titanic_dataset.copy()"
   ]
  },
  {
   "cell_type": "markdown",
   "id": "3280f866-3267-4415-8991-d061d33e5c75",
   "metadata": {},
   "source": [
    "#### Check of data balance for Survived column. Unbalance is moderate 62% - 38%"
   ]
  },
  {
   "cell_type": "code",
   "execution_count": 8,
   "id": "2b806fc4-cd3c-4f93-9b96-5fcc9258569d",
   "metadata": {},
   "outputs": [
    {
     "name": "stdout",
     "output_type": "stream",
     "text": [
      "Survived\n",
      "0    0.616162\n",
      "1    0.383838\n",
      "Name: proportion, dtype: float64\n"
     ]
    },
    {
     "data": {
      "image/png": "[encoded data removed]",
      "text/plain": [
       "<Figure size 640x480 with 1 Axes>"
      ]
     },
     "metadata": {},
     "output_type": "display_data"
    }
   ],
   "source": [
    "print(titanic['Survived'].value_counts(normalize=True))\n",
    "CountSurv = pd.Series(titanic['Survived']).value_counts()\n",
    "CountSurv.plot.bar(color=['red','green'])\n",
    "plt.show()"
   ]
  },
  {
   "cell_type": "markdown",
   "id": "71b7742a-f790-4666-b37d-7ea9157dd941",
   "metadata": {},
   "source": [
    "#### Check the normalized value counts for all classes\n",
    "#### The largest class is 3 (approx 55%), the other two have similar numbers"
   ]
  },
  {
   "cell_type": "code",
   "execution_count": 9,
   "id": "a6991573-fd55-4152-9e0c-eba7bde06141",
   "metadata": {},
   "outputs": [
    {
     "name": "stdout",
     "output_type": "stream",
     "text": [
      "Pclass\n",
      "3    0.551066\n",
      "1    0.242424\n",
      "2    0.206510\n",
      "Name: proportion, dtype: float64\n"
     ]
    }
   ],
   "source": [
    "print(titanic['Pclass'].value_counts(normalize=True))"
   ]
  },
  {
   "cell_type": "markdown",
   "id": "737f6c98-b7cb-44a5-85e4-37430e2ef3e9",
   "metadata": {},
   "source": [
    "#### Check the differences in survival based on passenger class. \n",
    "#### There are significant  differences visible on below barplot between passenger classes regarding survival rate. \n",
    "#### On the chart there are also visible error bars. Error bars are graphical representations of data variability or uncertainty. They give a visual indication of the range of possible values or the confidence interval for each bar in a plot."
   ]
  },
  {
   "cell_type": "code",
   "execution_count": 10,
   "id": "e003c308-0fac-4d88-b59e-a30cfa475589",
   "metadata": {},
   "outputs": [
    {
     "data": {
      "image/png": "[encoded data removed]",
      "text/plain": [
       "<Figure size 640x480 with 1 Axes>"
      ]
     },
     "metadata": {},
     "output_type": "display_data"
    }
   ],
   "source": [
    "sns.barplot(x='Pclass', y='Survived', data=titanic, hue='Pclass')\n",
    "plt.show()"
   ]
  },
  {
   "cell_type": "markdown",
   "id": "4ea05f7a-b161-4523-ab06-d125e1fd6376",
   "metadata": {},
   "source": [
    "#### It can be checked if title in Name column can be a factor in Survival probability. Extract title into the new column."
   ]
  },
  {
   "cell_type": "code",
   "execution_count": 11,
   "id": "8ccd9c3f-7570-4289-a44c-132d183ad1ee",
   "metadata": {},
   "outputs": [
    {
     "data": {
      "text/html": [
       "<div>\n",
       "<style scoped>\n",
       "    .dataframe tbody tr th:only-of-type {\n",
       "        vertical-align: middle;\n",
       "    }\n",
       "\n",
       "    .dataframe tbody tr th {\n",
       "        vertical-align: top;\n",
       "    }\n",
       "\n",
       "    .dataframe thead th {\n",
       "        text-align: right;\n",
       "    }\n",
       "</style>\n",
       "<table border=\"1\" class=\"dataframe\">\n",
       "  <thead>\n",
       "    <tr style=\"text-align: right;\">\n",
       "      <th></th>\n",
       "      <th>Survived</th>\n",
       "      <th>Pclass</th>\n",
       "      <th>Sex</th>\n",
       "      <th>Age</th>\n",
       "      <th>SibSp</th>\n",
       "      <th>Parch</th>\n",
       "      <th>Fare</th>\n",
       "      <th>Cabin</th>\n",
       "      <th>Embarked</th>\n",
       "      <th>Title</th>\n",
       "    </tr>\n",
       "  </thead>\n",
       "  <tbody>\n",
       "    <tr>\n",
       "      <th>0</th>\n",
       "      <td>0</td>\n",
       "      <td>3</td>\n",
       "      <td>male</td>\n",
       "      <td>22.0</td>\n",
       "      <td>1</td>\n",
       "      <td>0</td>\n",
       "      <td>7.2500</td>\n",
       "      <td>NaN</td>\n",
       "      <td>S</td>\n",
       "      <td>Mr</td>\n",
       "    </tr>\n",
       "    <tr>\n",
       "      <th>1</th>\n",
       "      <td>1</td>\n",
       "      <td>1</td>\n",
       "      <td>female</td>\n",
       "      <td>38.0</td>\n",
       "      <td>1</td>\n",
       "      <td>0</td>\n",
       "      <td>71.2833</td>\n",
       "      <td>C85</td>\n",
       "      <td>C</td>\n",
       "      <td>Mrs</td>\n",
       "    </tr>\n",
       "    <tr>\n",
       "      <th>2</th>\n",
       "      <td>1</td>\n",
       "      <td>3</td>\n",
       "      <td>female</td>\n",
       "      <td>26.0</td>\n",
       "      <td>0</td>\n",
       "      <td>0</td>\n",
       "      <td>7.9250</td>\n",
       "      <td>NaN</td>\n",
       "      <td>S</td>\n",
       "      <td>Miss</td>\n",
       "    </tr>\n",
       "    <tr>\n",
       "      <th>3</th>\n",
       "      <td>1</td>\n",
       "      <td>1</td>\n",
       "      <td>female</td>\n",
       "      <td>35.0</td>\n",
       "      <td>1</td>\n",
       "      <td>0</td>\n",
       "      <td>53.1000</td>\n",
       "      <td>C123</td>\n",
       "      <td>S</td>\n",
       "      <td>Mrs</td>\n",
       "    </tr>\n",
       "    <tr>\n",
       "      <th>4</th>\n",
       "      <td>0</td>\n",
       "      <td>3</td>\n",
       "      <td>male</td>\n",
       "      <td>35.0</td>\n",
       "      <td>0</td>\n",
       "      <td>0</td>\n",
       "      <td>8.0500</td>\n",
       "      <td>NaN</td>\n",
       "      <td>S</td>\n",
       "      <td>Mr</td>\n",
       "    </tr>\n",
       "    <tr>\n",
       "      <th>...</th>\n",
       "      <td>...</td>\n",
       "      <td>...</td>\n",
       "      <td>...</td>\n",
       "      <td>...</td>\n",
       "      <td>...</td>\n",
       "      <td>...</td>\n",
       "      <td>...</td>\n",
       "      <td>...</td>\n",
       "      <td>...</td>\n",
       "      <td>...</td>\n",
       "    </tr>\n",
       "    <tr>\n",
       "      <th>886</th>\n",
       "      <td>0</td>\n",
       "      <td>2</td>\n",
       "      <td>male</td>\n",
       "      <td>27.0</td>\n",
       "      <td>0</td>\n",
       "      <td>0</td>\n",
       "      <td>13.0000</td>\n",
       "      <td>NaN</td>\n",
       "      <td>S</td>\n",
       "      <td>Rev</td>\n",
       "    </tr>\n",
       "    <tr>\n",
       "      <th>887</th>\n",
       "      <td>1</td>\n",
       "      <td>1</td>\n",
       "      <td>female</td>\n",
       "      <td>19.0</td>\n",
       "      <td>0</td>\n",
       "      <td>0</td>\n",
       "      <td>30.0000</td>\n",
       "      <td>B42</td>\n",
       "      <td>S</td>\n",
       "      <td>Miss</td>\n",
       "    </tr>\n",
       "    <tr>\n",
       "      <th>888</th>\n",
       "      <td>0</td>\n",
       "      <td>3</td>\n",
       "      <td>female</td>\n",
       "      <td>NaN</td>\n",
       "      <td>1</td>\n",
       "      <td>2</td>\n",
       "      <td>23.4500</td>\n",
       "      <td>NaN</td>\n",
       "      <td>S</td>\n",
       "      <td>Miss</td>\n",
       "    </tr>\n",
       "    <tr>\n",
       "      <th>889</th>\n",
       "      <td>1</td>\n",
       "      <td>1</td>\n",
       "      <td>male</td>\n",
       "      <td>26.0</td>\n",
       "      <td>0</td>\n",
       "      <td>0</td>\n",
       "      <td>30.0000</td>\n",
       "      <td>C148</td>\n",
       "      <td>C</td>\n",
       "      <td>Mr</td>\n",
       "    </tr>\n",
       "    <tr>\n",
       "      <th>890</th>\n",
       "      <td>0</td>\n",
       "      <td>3</td>\n",
       "      <td>male</td>\n",
       "      <td>32.0</td>\n",
       "      <td>0</td>\n",
       "      <td>0</td>\n",
       "      <td>7.7500</td>\n",
       "      <td>NaN</td>\n",
       "      <td>Q</td>\n",
       "      <td>Mr</td>\n",
       "    </tr>\n",
       "  </tbody>\n",
       "</table>\n",
       "<p>891 rows × 10 columns</p>\n",
       "</div>"
      ],
      "text/plain": [
       "     Survived  Pclass     Sex   Age  SibSp  Parch     Fare Cabin Embarked  \\\n",
       "0           0       3    male  22.0      1      0   7.2500   NaN        S   \n",
       "1           1       1  female  38.0      1      0  71.2833   C85        C   \n",
       "2           1       3  female  26.0      0      0   7.9250   NaN        S   \n",
       "3           1       1  female  35.0      1      0  53.1000  C123        S   \n",
       "4           0       3    male  35.0      0      0   8.0500   NaN        S   \n",
       "..        ...     ...     ...   ...    ...    ...      ...   ...      ...   \n",
       "886         0       2    male  27.0      0      0  13.0000   NaN        S   \n",
       "887         1       1  female  19.0      0      0  30.0000   B42        S   \n",
       "888         0       3  female   NaN      1      2  23.4500   NaN        S   \n",
       "889         1       1    male  26.0      0      0  30.0000  C148        C   \n",
       "890         0       3    male  32.0      0      0   7.7500   NaN        Q   \n",
       "\n",
       "    Title  \n",
       "0      Mr  \n",
       "1     Mrs  \n",
       "2    Miss  \n",
       "3     Mrs  \n",
       "4      Mr  \n",
       "..    ...  \n",
       "886   Rev  \n",
       "887  Miss  \n",
       "888  Miss  \n",
       "889    Mr  \n",
       "890    Mr  \n",
       "\n",
       "[891 rows x 10 columns]"
      ]
     },
     "execution_count": 11,
     "metadata": {},
     "output_type": "execute_result"
    }
   ],
   "source": [
    "titanic['Title'] = titanic['Name'].str.split(', ', expand=True)[1].str.split('.',  expand=True)[0]\n",
    "titanic.drop(['Name'], axis=1, inplace=True)\n",
    "titanic"
   ]
  },
  {
   "cell_type": "markdown",
   "id": "89d45b46-d305-4e5e-96a3-ebdd373726da",
   "metadata": {},
   "source": [
    "#### Create plot with survival rate for each category in Title column"
   ]
  },
  {
   "cell_type": "code",
   "execution_count": 12,
   "id": "54665c3b-5bec-4c85-91fd-7e911d3e3fa0",
   "metadata": {},
   "outputs": [
    {
     "data": {
      "image/png": "[encoded data removed]",
      "text/plain": [
       "<Figure size 2000x900 with 1 Axes>"
      ]
     },
     "metadata": {},
     "output_type": "display_data"
    }
   ],
   "source": [
    "plt.figure(figsize=(20, 9))\n",
    "sns.barplot(x='Title', y='Survived', data=titanic, color='orange')\n",
    "plt.show()"
   ]
  },
  {
   "cell_type": "markdown",
   "id": "44211f22-7515-4e73-bf7d-ef0769fbd980",
   "metadata": {},
   "source": [
    "#### Check the normalized value counts for all categories in the Title column. \n",
    "#### There are 3 most numerous categories. The rest can be combined into the 'Others' category"
   ]
  },
  {
   "cell_type": "code",
   "execution_count": 13,
   "id": "7643c74b-12b4-4047-b57d-1211ac81822e",
   "metadata": {},
   "outputs": [
    {
     "data": {
      "text/plain": [
       "Title\n",
       "Mr              0.580247\n",
       "Miss            0.204265\n",
       "Mrs             0.140292\n",
       "Master          0.044893\n",
       "Dr              0.007856\n",
       "Rev             0.006734\n",
       "Mlle            0.002245\n",
       "Major           0.002245\n",
       "Col             0.002245\n",
       "the Countess    0.001122\n",
       "Capt            0.001122\n",
       "Ms              0.001122\n",
       "Sir             0.001122\n",
       "Lady            0.001122\n",
       "Mme             0.001122\n",
       "Don             0.001122\n",
       "Jonkheer        0.001122\n",
       "Name: proportion, dtype: float64"
      ]
     },
     "execution_count": 13,
     "metadata": {},
     "output_type": "execute_result"
    }
   ],
   "source": [
    "titanic['Title'].value_counts(normalize=True)"
   ]
  },
  {
   "cell_type": "markdown",
   "id": "939d4f55-e302-4224-8fd6-8c437f779744",
   "metadata": {},
   "source": [
    "#### Check the number of women and men in dataset"
   ]
  },
  {
   "cell_type": "code",
   "execution_count": 14,
   "id": "f1dea345-6db6-423b-9732-1bcead628d93",
   "metadata": {},
   "outputs": [
    {
     "name": "stdout",
     "output_type": "stream",
     "text": [
      "Sex\n",
      "male      0.647587\n",
      "female    0.352413\n",
      "Name: proportion, dtype: float64\n"
     ]
    },
    {
     "data": {
      "image/png": "[encoded data removed]",
      "text/plain": [
       "<Figure size 640x480 with 1 Axes>"
      ]
     },
     "metadata": {},
     "output_type": "display_data"
    }
   ],
   "source": [
    "print(titanic['Sex'].value_counts(normalize=True))\n",
    "CountSurv = pd.Series(titanic['Sex']).value_counts()\n",
    "CountSurv.plot.bar(color=['blue','green'])\n",
    "plt.show()"
   ]
  },
  {
   "cell_type": "markdown",
   "id": "c56522d8-2fa0-4b7a-a688-8249738119c6",
   "metadata": {},
   "source": [
    "#### Check whether person's gender has an influence on survival rate. \n",
    "#### There is significant difference visible on below barplot."
   ]
  },
  {
   "cell_type": "code",
   "execution_count": 15,
   "id": "423b2222-a4bb-4b6e-96dc-5b7c0f5117bb",
   "metadata": {},
   "outputs": [
    {
     "data": {
      "image/png": "[encoded data removed]",
      "text/plain": [
       "<Figure size 640x480 with 1 Axes>"
      ]
     },
     "metadata": {},
     "output_type": "display_data"
    }
   ],
   "source": [
    "sns.barplot(x='Sex', y='Survived', data=titanic, hue='Sex')\n",
    "plt.show()"
   ]
  },
  {
   "cell_type": "markdown",
   "id": "142159a6-43db-467f-a546-0454adda8b9d",
   "metadata": {},
   "source": [
    "#### Boxplot can be used to observe whether age affects survivallity "
   ]
  },
  {
   "cell_type": "code",
   "execution_count": 16,
   "id": "315672d0-33c2-479c-8302-3c45374cc131",
   "metadata": {},
   "outputs": [
    {
     "data": {
      "image/png": "[encoded data removed]",
      "text/plain": [
       "<Figure size 640x480 with 1 Axes>"
      ]
     },
     "metadata": {},
     "output_type": "display_data"
    }
   ],
   "source": [
    "sns.boxplot(y='Age', x='Survived', data=titanic)\n",
    "plt.show()"
   ]
  },
  {
   "cell_type": "markdown",
   "id": "7e8d41ee-0adb-4b8e-843d-e430e1a8bb0f",
   "metadata": {},
   "source": [
    "#### Structure of age of all passengers can be observed in histogram"
   ]
  },
  {
   "cell_type": "code",
   "execution_count": 17,
   "id": "6fca2db1-75eb-4616-a9f1-eb4c84fa0da7",
   "metadata": {},
   "outputs": [
    {
     "data": {
      "text/plain": [
       "<Axes: >"
      ]
     },
     "execution_count": 17,
     "metadata": {},
     "output_type": "execute_result"
    },
    {
     "data": {
      "image/png": "[encoded data removed]",
      "text/plain": [
       "<Figure size 640x480 with 1 Axes>"
      ]
     },
     "metadata": {},
     "output_type": "display_data"
    }
   ],
   "source": [
    "titanic['Age'].hist(bins=30)"
   ]
  },
  {
   "cell_type": "markdown",
   "id": "ec1044d5-27a3-419d-a892-fad33c6de251",
   "metadata": {},
   "source": [
    "#### On below histplot there are presented probability density based on age for people that survived or not.\n",
    "#### Red line and green line cross few  times but it seems that age under 13 has better chances to survive and age beteen 13 and 31 less chancess. It is also visible that there is large number of childrens between age 10 - 8 that did not survive and it will affect probability density. \n",
    "#### Based on such histplot and above comments 3 groups can be proposed for better survivability recognition 0-8, 8-31, above 31"
   ]
  },
  {
   "cell_type": "code",
   "execution_count": 18,
   "id": "d70d5a08-257d-4678-afb5-c74814431a0b",
   "metadata": {},
   "outputs": [
    {
     "data": {
      "image/png": "[encoded data removed]",
      "text/plain": [
       "<Figure size 1200x250 with 1 Axes>"
      ]
     },
     "metadata": {},
     "output_type": "display_data"
    }
   ],
   "source": [
    "    plt.figure(figsize=(12, 2.5))\n",
    "    sns.histplot(titanic.loc[titanic['Survived']==0, 'Age'], kde=True, stat=\"density\", linewidth=0,color='red', label='0', bins=40)\n",
    "    sns.histplot(titanic.loc[titanic['Survived']==1, 'Age'], kde=True, stat=\"density\", linewidth=0, color='green', label='1', bins=40)\n",
    "    plt.legend(loc='upper right')\n",
    "    plt.show()"
   ]
  },
  {
   "cell_type": "markdown",
   "id": "858a85d5-a162-4da8-83c9-f65704d45edb",
   "metadata": {},
   "source": [
    "#### Data are devided for 3 groups according to above decision.\n",
    "#### On below barplot it is visible that survival rate was much higher for children between 0-8 age then for two other groups. There is visible slighty higher survivability in group 31 and above."
   ]
  },
  {
   "cell_type": "code",
   "execution_count": 19,
   "id": "2fa3d376-eecf-4e2f-b3b7-13438ed9c9dc",
   "metadata": {},
   "outputs": [],
   "source": [
    "titanic.loc[titanic['Age']<8 , 'AgeRange'] = 0\n",
    "titanic.loc[(titanic['Age']>=8) & (titanic['Age']<31), 'AgeRange'] = 1\n",
    "titanic.loc[titanic['Age']>=31 , 'AgeRange'] = 2"
   ]
  },
  {
   "cell_type": "code",
   "execution_count": 20,
   "id": "8a94d6ce-f326-4807-91a7-f4c9e0c025b9",
   "metadata": {},
   "outputs": [
    {
     "data": {
      "image/png": "[encoded data removed]",
      "text/plain": [
       "<Figure size 640x480 with 1 Axes>"
      ]
     },
     "metadata": {},
     "output_type": "display_data"
    }
   ],
   "source": [
    "ax = sns.barplot(x='AgeRange', y='Survived', data=titanic)\n",
    "ax.set_xticks([0, 1, 2])\n",
    "ax.set_xticklabels(['0-8 years', '9-30 years', '>=31 years'])\n",
    "plt.show()"
   ]
  },
  {
   "cell_type": "markdown",
   "id": "57319572-5a75-4706-bc70-327be55e0128",
   "metadata": {},
   "source": [
    "#### Much higher survivability is recognised for 7% of population"
   ]
  },
  {
   "cell_type": "code",
   "execution_count": 21,
   "id": "23e0ac5e-d908-42d5-a4af-7b5880e2813d",
   "metadata": {},
   "outputs": [
    {
     "data": {
      "text/plain": [
       "AgeRange\n",
       "1.0    0.505602\n",
       "2.0    0.424370\n",
       "0.0    0.070028\n",
       "Name: proportion, dtype: float64"
      ]
     },
     "execution_count": 21,
     "metadata": {},
     "output_type": "execute_result"
    }
   ],
   "source": [
    "titanic['AgeRange'].value_counts(normalize=True)"
   ]
  },
  {
   "cell_type": "markdown",
   "id": "3deea345-e88f-4e0e-896f-83864b06e5c9",
   "metadata": {},
   "source": [
    "#### Check the normalized value counts for SibSp column (Number of Siblings/Spouses Aboard)"
   ]
  },
  {
   "cell_type": "code",
   "execution_count": 22,
   "id": "de62813c-61c0-47ce-9cb5-524eedf333c5",
   "metadata": {},
   "outputs": [
    {
     "name": "stdout",
     "output_type": "stream",
     "text": [
      "SibSp\n",
      "0    0.682379\n",
      "1    0.234568\n",
      "2    0.031425\n",
      "4    0.020202\n",
      "3    0.017957\n",
      "8    0.007856\n",
      "5    0.005612\n",
      "Name: proportion, dtype: float64\n"
     ]
    }
   ],
   "source": [
    "print(titanic['SibSp'].value_counts(normalize=True))"
   ]
  },
  {
   "cell_type": "markdown",
   "id": "53107866-0755-41e7-851e-fb512281eb38",
   "metadata": {},
   "source": [
    "#### Check the differences in survival based on number of siblings/spouses aboard. \n",
    "#### There are significant  differences visible on below barplot depending on SibSp number. However for bigger number of siblings/spouses error bars are much larger. The reason is the uniqueness of such situations."
   ]
  },
  {
   "cell_type": "code",
   "execution_count": 23,
   "id": "5e54ff92-5680-4c34-8dcc-e5f517501159",
   "metadata": {},
   "outputs": [
    {
     "data": {
      "image/png": "[encoded data removed]",
      "text/plain": [
       "<Figure size 640x480 with 1 Axes>"
      ]
     },
     "metadata": {},
     "output_type": "display_data"
    }
   ],
   "source": [
    "sns.barplot(x='SibSp', y='Survived', data=titanic, hue='SibSp')\n",
    "plt.show()"
   ]
  },
  {
   "cell_type": "markdown",
   "id": "1f0a2663-2f67-4112-ba37-36558f80bef8",
   "metadata": {},
   "source": [
    "#### Check the normalized value counts for Parch column (Number of Parents/Children Aboard)"
   ]
  },
  {
   "cell_type": "code",
   "execution_count": 24,
   "id": "8672bda1-9b10-4088-8221-b9a103347203",
   "metadata": {},
   "outputs": [
    {
     "name": "stdout",
     "output_type": "stream",
     "text": [
      "Parch\n",
      "0    0.760943\n",
      "1    0.132435\n",
      "2    0.089787\n",
      "5    0.005612\n",
      "3    0.005612\n",
      "4    0.004489\n",
      "6    0.001122\n",
      "Name: proportion, dtype: float64\n"
     ]
    }
   ],
   "source": [
    "print(titanic['Parch'].value_counts(normalize=True))"
   ]
  },
  {
   "cell_type": "markdown",
   "id": "548f0d28-8b0c-4c9a-b7c3-927bfa7e54b8",
   "metadata": {},
   "source": [
    "#### Check the differences in survival based on number of of parents/children aboard. \n",
    "#### There are significant  differences visible on below barplot depending on Parch number. However for bigger number of parents/children error bars are much larger. The reason is the uniqueness of such situations."
   ]
  },
  {
   "cell_type": "code",
   "execution_count": 25,
   "id": "dae92d52-b642-48b5-b80a-52456af155ed",
   "metadata": {},
   "outputs": [
    {
     "data": {
      "image/png": "[encoded data removed]",
      "text/plain": [
       "<Figure size 640x480 with 1 Axes>"
      ]
     },
     "metadata": {},
     "output_type": "display_data"
    }
   ],
   "source": [
    "sns.barplot(x='Parch', y='Survived', data=titanic, hue='Parch')\n",
    "plt.show()"
   ]
  },
  {
   "cell_type": "markdown",
   "id": "d1f45c79-4974-43f8-8c17-6b37eeca97c2",
   "metadata": {},
   "source": [
    "#### Check the normalized value counts for Embarked column (Port of Embarkation: C = Cherbourg; Q = Queenstown; S = Southampton)"
   ]
  },
  {
   "cell_type": "code",
   "execution_count": 26,
   "id": "22c30244-d99a-492c-a836-b16fff7708bf",
   "metadata": {},
   "outputs": [
    {
     "name": "stdout",
     "output_type": "stream",
     "text": [
      "Embarked\n",
      "S    0.724409\n",
      "C    0.188976\n",
      "Q    0.086614\n",
      "Name: proportion, dtype: float64\n"
     ]
    }
   ],
   "source": [
    "print(titanic['Embarked'].value_counts(normalize=True))"
   ]
  },
  {
   "cell_type": "markdown",
   "id": "e6627a54-507e-4c6e-bd24-3d589af320cb",
   "metadata": {},
   "source": [
    "#### Check the differences in survival based on port of embarkation. Differences are visible"
   ]
  },
  {
   "cell_type": "code",
   "execution_count": 27,
   "id": "039527cc-4313-44ce-8b14-c9d552411a87",
   "metadata": {},
   "outputs": [
    {
     "data": {
      "image/png": "[encoded data removed]",
      "text/plain": [
       "<Figure size 640x480 with 1 Axes>"
      ]
     },
     "metadata": {},
     "output_type": "display_data"
    }
   ],
   "source": [
    "sns.barplot(x='Embarked', y='Survived', data=titanic, hue='Embarked')\n",
    "plt.show()"
   ]
  },
  {
   "cell_type": "markdown",
   "id": "1ac97946-a77b-48fd-933f-a1e63026da07",
   "metadata": {},
   "source": [
    "#### Check if fare has impact on survivability. \n",
    "#### Below boxplot show that fare median of people that survived was higher. "
   ]
  },
  {
   "cell_type": "code",
   "execution_count": 28,
   "id": "a5f1acb2-5bbd-44a7-9d58-cb30576b4e55",
   "metadata": {},
   "outputs": [
    {
     "data": {
      "image/png": "[encoded data removed]",
      "text/plain": [
       "<Figure size 640x480 with 1 Axes>"
      ]
     },
     "metadata": {},
     "output_type": "display_data"
    }
   ],
   "source": [
    "sns.boxplot(y='Fare', x='Survived', data=titanic)\n",
    "plt.show()"
   ]
  },
  {
   "cell_type": "markdown",
   "id": "67db7ee9-063b-4a2e-a8fd-8aefe230187c",
   "metadata": {},
   "source": [
    "#### Check if survival rate of passengers with defined cabin number was higher. \n",
    "#### Only approx 23% passengers have defined cabin number and below barplot show that survivability among them was much higher. "
   ]
  },
  {
   "cell_type": "code",
   "execution_count": 29,
   "id": "c65e3c30-d2d0-4f22-a173-893614ee1c2e",
   "metadata": {},
   "outputs": [],
   "source": [
    "titanic.loc[titanic['Cabin'].notna() , 'CabinNum'] = 1\n",
    "titanic.loc[titanic['Cabin'].isna(), 'CabinNum'] = 0\n",
    "titanic.drop(['Cabin'], axis=1, inplace=True)"
   ]
  },
  {
   "cell_type": "code",
   "execution_count": 30,
   "id": "f3616946-1f43-42e9-b4e6-6d42ddc86e2a",
   "metadata": {},
   "outputs": [
    {
     "data": {
      "image/png": "[encoded data removed]",
      "text/plain": [
       "<Figure size 640x480 with 1 Axes>"
      ]
     },
     "metadata": {},
     "output_type": "display_data"
    }
   ],
   "source": [
    "sns.barplot(x='CabinNum', y='Survived', data=titanic, hue='CabinNum')\n",
    "plt.show()"
   ]
  },
  {
   "cell_type": "markdown",
   "id": "8aa114c9-5887-4d1a-8b01-b981f9cc8ff2",
   "metadata": {},
   "source": [
    "#### Correlation check for variables\n",
    "#### Below matrix show some inverse correlation beteen Fare and Pclass additionally between Age and Pclass. Correlation between SibSp and Parch is also visible."
   ]
  },
  {
   "cell_type": "code",
   "execution_count": 31,
   "id": "47292a05-d813-4440-a7f6-33509a182cfa",
   "metadata": {},
   "outputs": [
    {
     "data": {
      "image/png": "[encoded data removed]",
      "text/plain": [
       "<Figure size 800x800 with 2 Axes>"
      ]
     },
     "metadata": {},
     "output_type": "display_data"
    }
   ],
   "source": [
    "correlation_data=['Age','Fare','SibSp','Parch','Pclass']\n",
    "plt.figure(figsize=(8, 8))\n",
    "ax = sns.heatmap(titanic[correlation_data].corr(),\n",
    "                 xticklabels=titanic[correlation_data].corr().columns,\n",
    "                 yticklabels=titanic[correlation_data].columns,\n",
    "                 cmap='RdYlGn',\n",
    "                 center=0,\n",
    "                 annot=True)\n",
    "\n",
    "plt.title('Correlation matrix', fontsize=14)\n",
    "bottom, top = ax.get_ylim()\n",
    "ax.set_ylim(bottom + 0.5, top - 0.5)\n",
    "plt.xticks(fontsize=12)\n",
    "plt.yticks(fontsize=12)\n",
    "plt.show()"
   ]
  },
  {
   "cell_type": "markdown",
   "id": "b23b92f5-c118-4410-bb19-87cdabae733d",
   "metadata": {},
   "source": [
    "## Comparison of simple and advanced classifier (using grid search) and neural networks. "
   ]
  },
  {
   "cell_type": "markdown",
   "id": "5d6fa969-7cc3-47ea-a917-b27260119f4b",
   "metadata": {},
   "source": [
    "#### The main task will be to maximize the F1 Score for passengers who survived the crash, so that the trained model can most accurately determine the group of passengers who will survive the crash. "
   ]
  },
  {
   "cell_type": "code",
   "execution_count": 32,
   "id": "1192d388-29f2-4221-a6d1-ba9f6c37f6bf",
   "metadata": {},
   "outputs": [],
   "source": [
    "titanic = titanic_dataset.copy()"
   ]
  },
  {
   "cell_type": "markdown",
   "id": "2777a487-7e71-4e59-b201-7483ebe662cb",
   "metadata": {},
   "source": [
    "#### Data split for X and y. Ater that data set is separated into training and test data. Data stratification is necessary to ensure sufficient amount of minority class data for proper model training."
   ]
  },
  {
   "cell_type": "code",
   "execution_count": 33,
   "id": "a9574316-e257-4e7d-88f3-2c06a22f4d79",
   "metadata": {},
   "outputs": [],
   "source": [
    "X = titanic.drop(['Survived'], axis=1).copy()\n",
    "y = titanic['Survived'].copy()"
   ]
  },
  {
   "cell_type": "code",
   "execution_count": 34,
   "id": "4eed4c18-1964-4d44-9277-fe80e8a33715",
   "metadata": {},
   "outputs": [],
   "source": [
    "X_train, X_test, y_train, y_test = train_test_split(X, y, test_size=0.20, random_state=42, stratify=y)"
   ]
  },
  {
   "cell_type": "markdown",
   "id": "d6c320a3-2798-478f-82af-edc0bf40c4fe",
   "metadata": {},
   "source": [
    "#### defining which data we will treat as numeric and which as categorical. 'SibSp' and 'Parch' could also be treated as categorical data, but when using OneHotEncoder, quite a lot of variables would be created, so they are assigned to numeric variables"
   ]
  },
  {
   "cell_type": "code",
   "execution_count": 35,
   "id": "42e0493a-84af-4cc1-9ae1-2456b6ae3d17",
   "metadata": {},
   "outputs": [],
   "source": [
    "num_features = ['Age', 'SibSp', 'Parch', 'Fare']\n",
    "cat_features = ['Sex', 'Name', 'Cabin', 'Embarked', 'Pclass']"
   ]
  },
  {
   "cell_type": "markdown",
   "id": "e329e8c2-df5e-4114-88bb-72abd420f9e6",
   "metadata": {},
   "source": [
    "#### Class definition which will separate the prefixes Mr, Miss, Mrs from the Name column and create a separate category others"
   ]
  },
  {
   "cell_type": "code",
   "execution_count": 36,
   "id": "6e97650b-06da-45b8-853c-5052f1d60f47",
   "metadata": {},
   "outputs": [],
   "source": [
    "class Filter_Name(BaseEstimator, TransformerMixin):\n",
    "    def __init__(self, column):\n",
    "        self.column = column\n",
    "\n",
    "    def fit(self, X, y = None ):\n",
    "        return self\n",
    "\n",
    "    def transform(self, X, y = None ):\n",
    "        X_transformed = X.copy()\n",
    "        column = self.column\n",
    "        X_transformed[column] = X_transformed[column].str.split(', ', expand=True)[1].str.split('.', expand=True)[0]\n",
    "        X_transformed.loc[~X_transformed[column].isin(['Mr', 'Miss', 'Mrs']), column] = 'Other'\n",
    "        return X_transformed"
   ]
  },
  {
   "cell_type": "markdown",
   "id": "07cb89a6-2093-4937-a5f1-8c6d9971f7b2",
   "metadata": {},
   "source": [
    "#### Defining a class that allows to check which passengers had an assigned cabin number and which did not."
   ]
  },
  {
   "cell_type": "code",
   "execution_count": 37,
   "id": "f9747d32-42ad-47d9-89df-3b29f6dda3f4",
   "metadata": {},
   "outputs": [],
   "source": [
    "class Filter_Cabin(BaseEstimator, TransformerMixin):\n",
    "    def __init__(self, column):\n",
    "        self.column = column\n",
    "\n",
    "    def fit(self, X, y = None ):\n",
    "        return self\n",
    "\n",
    "    def transform(self, X, y = None ):\n",
    "        X_transformed = X.copy()\n",
    "        column = self.column\n",
    "        X_transformed.loc[X_transformed[column].notna() , column] = 1\n",
    "        X_transformed.loc[X_transformed[column].isna(), column] = 0\n",
    "        return X_transformed"
   ]
  },
  {
   "cell_type": "markdown",
   "id": "c21de409-3de7-4e33-a72e-cf9069d1fff1",
   "metadata": {},
   "source": [
    "#### Creating a class that divides people into three age groups to better predict survival"
   ]
  },
  {
   "cell_type": "code",
   "execution_count": 38,
   "id": "d96319ee-24fc-417a-8f85-ded4f049f5a7",
   "metadata": {},
   "outputs": [],
   "source": [
    "class Age_Range(BaseEstimator, TransformerMixin):\n",
    "    def __init__(self, column):\n",
    "        self.column = column\n",
    "\n",
    "    def fit(self, X, y = None ):\n",
    "        return self\n",
    "\n",
    "    def transform(self, X, y = None ):\n",
    "        X_transformed = X.copy()\n",
    "        column = self.column\n",
    "        X_transformed.loc[(X_transformed[column]<8), \"AgeRange\"] = 0\n",
    "        X_transformed.loc[(X_transformed[column]>=8) & (X_transformed[column]<31), \"AgeRange\"] = 1\n",
    "        X_transformed.loc[X_transformed[column]>=31, \"AgeRange\"] = 2\n",
    "        return X_transformed"
   ]
  },
  {
   "cell_type": "markdown",
   "id": "b4675830-9389-42e1-acee-051730a3e104",
   "metadata": {},
   "source": [
    "#### Defining a function that will save the results to a \"DataFrame\" and display a ConfusionMatrix"
   ]
  },
  {
   "cell_type": "code",
   "execution_count": 39,
   "id": "66104e6a-a9ce-4804-a912-dfed1eda4d84",
   "metadata": {},
   "outputs": [],
   "source": [
    "def result_summary(classifier_name, predict_test, metrics_df, y_test):\n",
    "    report = classification_report(y_test, predict_test, output_dict=True)\n",
    "    metrics_df.loc[metrics_df.shape[0]] = [classifier_name,'0',report['0']['precision'],report['0']['recall'],report['0']['f1-score']]\n",
    "    metrics_df.loc[metrics_df.shape[0]] = [classifier_name,'1',report['1']['precision'],report['1']['recall'],report['1']['f1-score']]\n",
    "    print(classification_report(y_test, predict_test))\n",
    "    \n",
    "    cm = confusion_matrix(y_test, predict_test)\n",
    "    ax = sns.heatmap(cm, annot=True, cmap='Blues', fmt='.0f')\n",
    "    ax.set_title('Confusion Matrix\\n\\n')\n",
    "    ax.set_xlabel('\\nPredicted Values')\n",
    "    ax.set_ylabel('Actual Values ')\n",
    "    plt.show()\n",
    "\n",
    "    return metrics_df"
   ]
  },
  {
   "cell_type": "markdown",
   "id": "44e570ee-11d9-4438-87ea-f7797e66841f",
   "metadata": {},
   "source": [
    "#### Defining a function that finds the optimal threshold for neural networks that will allow obtaining the maximum F1 Score for class \"1\""
   ]
  },
  {
   "cell_type": "code",
   "execution_count": 40,
   "id": "b6f3f904-f5d6-4cf4-b95c-220d311761c2",
   "metadata": {},
   "outputs": [],
   "source": [
    "def max_treshold(y_pred_prob,  y_test):\n",
    "    treshold = (np.arange(10, 90, 0.5)/100).tolist()\n",
    "    max_tr = [0,0]\n",
    "    for tresh in treshold:\n",
    "        y_pred = (y_pred_prob > tresh).astype(int)\n",
    "        report_cl = classification_report(y_test, y_pred, output_dict=True)\n",
    "        f1 = report_cl['1']['f1-score']\n",
    "        if f1 > max_tr[1]:\n",
    "            max_tr = [tresh,f1]\n",
    "    return max_tr[0]"
   ]
  },
  {
   "cell_type": "markdown",
   "id": "5399b84d-648d-4eae-8ebd-26563bc09e6b",
   "metadata": {},
   "source": [
    "#### dataframe metrics_df will be used to store summary data of tested classifiers. "
   ]
  },
  {
   "cell_type": "code",
   "execution_count": 41,
   "id": "f725dc96-eb6d-43bd-8ede-e45eabfef21f",
   "metadata": {},
   "outputs": [],
   "source": [
    "metrics_df = pd.DataFrame(columns = ['Classifier', 'Survived', 'Precision', 'Recall','F1-score'])"
   ]
  },
  {
   "cell_type": "markdown",
   "id": "e3ceb266-eed8-41eb-a553-41db78a4ef67",
   "metadata": {},
   "source": [
    "## LogisticRegression Classifier"
   ]
  },
  {
   "cell_type": "markdown",
   "id": "00e5116a-31f6-471c-bbe6-836aa43d4825",
   "metadata": {},
   "source": [
    "#### The first classifier that will be used is LogisticRegression. In the first step, a Pipeline is prepared, the purpose of which is to prepare the data for classification, so that gridSeach can also be used. Numeric Data need to be scaled for LogisticRegression and for PCA. This is why StandardScaler() is used two times. All previously defined classes are used, missing data is filled in. OneHotEncoder is used on all categorical data. Data are not balanced so LogisticRegression will be run with class_weight='balanced' to cover this issue."
   ]
  },
  {
   "cell_type": "code",
   "execution_count": 42,
   "id": "bc7557da-3284-410d-9c81-b2cd29e85ac2",
   "metadata": {},
   "outputs": [],
   "source": [
    "num_preparation = Pipeline(steps=[\n",
    "    ('age_range', Age_Range(column='Age')),\n",
    "    ('fill_missings', SimpleImputer(strategy='most_frequent')),\n",
    "    ('scaler_1', StandardScaler()),\n",
    "    ('pca', PCA()),\n",
    "    ('scaler_2', StandardScaler())\n",
    "                                 ])\n",
    "\n",
    "cat_preparation = Pipeline(steps=[\n",
    "    ('filter_name', Filter_Name(column='Name')),\n",
    "    ('filter_cabin', Filter_Cabin(column='Cabin')),\n",
    "    ('fill_missings', SimpleImputer(strategy='most_frequent')),\n",
    "    ('encoder', OneHotEncoder(sparse_output=False ,handle_unknown='ignore'))\n",
    "])\n",
    "\n",
    "data_preparation = ColumnTransformer(transformers=[\n",
    "    ('numeric_preprocessing', num_preparation, num_features),\n",
    "    ('categorical_preprocessing', cat_preparation, cat_features)\n",
    "])\n",
    "\n",
    "model_pipeline_LogReg = Pipeline(steps=[('preprocessor', data_preparation),\n",
    "                                    ('model', LogisticRegression(class_weight='balanced',  max_iter=20000))])"
   ]
  },
  {
   "cell_type": "markdown",
   "id": "68285468-ddde-4d36-bbc4-f4c927f58c61",
   "metadata": {},
   "source": [
    "#### Params are defined for GridSearch, which finds the optimal parameters for the classifier with the highest F1 Score for class \"1\". The results are written to DataFrame, ClassificationReport, ConfusionMatrix are displayed"
   ]
  },
  {
   "cell_type": "code",
   "execution_count": 43,
   "id": "a1e42e36-821b-480f-8239-2e02665f9c3a",
   "metadata": {},
   "outputs": [
    {
     "name": "stdout",
     "output_type": "stream",
     "text": [
      "Fitting 5 folds for each of 128 candidates, totalling 640 fits\n",
      "Best Hyperparameters: {'model__C': 10, 'model__penalty': 'l2', 'model__solver': 'sag', 'preprocessor__numeric_preprocessing__pca__n_components': 0.985}\n",
      "              precision    recall  f1-score   support\n",
      "\n",
      "           0       0.87      0.83      0.85       110\n",
      "           1       0.74      0.80      0.77        69\n",
      "\n",
      "    accuracy                           0.82       179\n",
      "   macro avg       0.80      0.81      0.81       179\n",
      "weighted avg       0.82      0.82      0.82       179\n",
      "\n"
     ]
    },
    {
     "data": {
      "image/png": "[encoded data removed]",
      "text/plain": [
       "<Figure size 640x480 with 2 Axes>"
      ]
     },
     "metadata": {},
     "output_type": "display_data"
    }
   ],
   "source": [
    "params = {\n",
    "    'preprocessor__numeric_preprocessing__pca__n_components': [0.97, 0.985, 0.99, 0.995],\n",
    "    'model__C': [0.01, 0.1, 1, 10],\n",
    "    'model__penalty': ['l2', None],\n",
    "    'model__solver': ['sag', 'saga', 'lbfgs', 'newton-cg']\n",
    "}\n",
    "\n",
    "grid_search = GridSearchCV(model_pipeline_LogReg, \n",
    "                           params, \n",
    "                           cv = 5, \n",
    "                           n_jobs = -1, \n",
    "                           verbose = 2, \n",
    "                           scoring = make_scorer(f1_score, pos_label=1)\n",
    "                          )\n",
    "\n",
    "grid_search.fit(X_train, y_train)\n",
    "print(\"Best Hyperparameters:\", grid_search.best_params_)\n",
    "model_pipeline_LogReg = grid_search.best_estimator_\n",
    "\n",
    "metrics_df = result_summary(\"LogisticRegression\", model_pipeline_LogReg.predict(X_test), metrics_df, y_test)"
   ]
  },
  {
   "cell_type": "markdown",
   "id": "07129912-69cd-4e21-8fe0-369b07a40df1",
   "metadata": {},
   "source": [
    "## RandomForestClassifier"
   ]
  },
  {
   "cell_type": "markdown",
   "id": "8c7afbc8-490d-48c3-b333-e4b9297f3b52",
   "metadata": {},
   "source": [
    "#### Second Classifier that will be used is RandomForestClassifier. In the first step, a Pipeline is prepared, the purpose of which is to prepare the data for classification, so that gridSeach can also be used. Numeric Data need to be scaled  only for PCA. All previously used classes are used, missing data is filled in. OneHotEncoder is used on all categorical data. Data are not balanced so RandomForestClassifier will be run with class_weight='balanced' to cover this issue."
   ]
  },
  {
   "cell_type": "code",
   "execution_count": 44,
   "id": "bc6a1082-d0f0-4901-bcc2-78a80a407323",
   "metadata": {},
   "outputs": [],
   "source": [
    "num_preparation = Pipeline(steps=[\n",
    "    ('age_range', Age_Range(column='Age')),\n",
    "    ('fill_missings', SimpleImputer(strategy='most_frequent')),\n",
    "    ('scaler_1', StandardScaler()),\n",
    "    ('pca', PCA(n_components=0.96))\n",
    "                                 ])\n",
    "\n",
    "cat_preparation = Pipeline(steps=[\n",
    "    ('filter_name', Filter_Name(column='Name')),\n",
    "    ('filter_cabin', Filter_Cabin(column='Cabin')),\n",
    "    ('fill_missings', SimpleImputer(strategy='most_frequent')),\n",
    "    ('encoder', OneHotEncoder(sparse_output=False ,handle_unknown='ignore'))\n",
    "])\n",
    "\n",
    "data_preparation = ColumnTransformer(transformers=[\n",
    "    ('numeric_preprocessing', num_preparation, num_features),\n",
    "    ('categorical_preprocessing', cat_preparation, cat_features)\n",
    "])\n",
    "\n",
    "model_pipeline_RndFor = Pipeline(steps=[('preprocessor', data_preparation),\n",
    "                                    ('model', RandomForestClassifier(class_weight= 'balanced'))])"
   ]
  },
  {
   "cell_type": "markdown",
   "id": "e12006f4-75c1-4c3c-bf81-779d62b7c868",
   "metadata": {},
   "source": [
    "#### Params are defined for GridSearch, which finds the optimal parameters for the classifier with the highest F1 Score for class \"1\". The results are written to DataFrame, ClassificationReport, ConfusionMatrix are displayed"
   ]
  },
  {
   "cell_type": "code",
   "execution_count": 45,
   "id": "3198aa2b-75b5-448e-bd5e-393b0fe4ac3c",
   "metadata": {},
   "outputs": [
    {
     "name": "stdout",
     "output_type": "stream",
     "text": [
      "Fitting 5 folds for each of 432 candidates, totalling 2160 fits\n",
      "Best Hyperparameters: {'model__max_depth': None, 'model__min_samples_leaf': 4, 'model__min_samples_split': 2, 'model__n_estimators': 50, 'preprocessor__numeric_preprocessing__pca__n_components': 0.96}\n",
      "              precision    recall  f1-score   support\n",
      "\n",
      "           0       0.82      0.85      0.84       110\n",
      "           1       0.75      0.70      0.72        69\n",
      "\n",
      "    accuracy                           0.79       179\n",
      "   macro avg       0.78      0.78      0.78       179\n",
      "weighted avg       0.79      0.79      0.79       179\n",
      "\n"
     ]
    },
    {
     "data": {
      "image/png": "[encoded data removed]",
      "text/plain": [
       "<Figure size 640x480 with 2 Axes>"
      ]
     },
     "metadata": {},
     "output_type": "display_data"
    }
   ],
   "source": [
    "param_grid = {  \n",
    "    'preprocessor__numeric_preprocessing__pca__n_components': [0.95, 0.96, 0.99],\n",
    "    'model__n_estimators': [ 30, 50, 80],           \n",
    "    'model__max_depth': [None, 10, 20],           \n",
    "    'model__min_samples_split': [2, 3, 4, 7],    \n",
    "    'model__min_samples_leaf': [1, 3, 4, 10]  \n",
    "}\n",
    "\n",
    "grid_search = GridSearchCV(\n",
    "    estimator = model_pipeline_RndFor,\n",
    "    param_grid = param_grid,\n",
    "    scoring = make_scorer(f1_score, pos_label=1),\n",
    "    cv=5,\n",
    "    verbose = 2,\n",
    "    n_jobs = -1\n",
    ") \n",
    "\n",
    "grid_search.fit(X_train, y_train)\n",
    "print(\"Best Hyperparameters:\", grid_search.best_params_)\n",
    "model_pipeline_RFC = grid_search.best_estimator_\n",
    "metrics_df = result_summary(\"Random Forest\", model_pipeline_RFC.predict(X_test), metrics_df, y_test)"
   ]
  },
  {
   "cell_type": "markdown",
   "id": "c21f18aa-559d-42d6-996f-557007ccc751",
   "metadata": {},
   "source": [
    "## Neural Networks"
   ]
  },
  {
   "cell_type": "markdown",
   "id": "d0cc2100-c22c-49b8-99d7-fb7fa4d14360",
   "metadata": {},
   "source": [
    "#### Pipeline is used only to prepare data for further training process. In this case for training data we use \"fit_transform\", test data also needs to be transformed before using them."
   ]
  },
  {
   "cell_type": "code",
   "execution_count": 46,
   "id": "55c2c636-7cce-4c97-bb05-494bf30daae7",
   "metadata": {},
   "outputs": [],
   "source": [
    "num_preparation = Pipeline(steps=[\n",
    "    ('age_range', Age_Range(column='Age')),\n",
    "    ('fill_missings', SimpleImputer(strategy='most_frequent')),\n",
    "    ('scaler', StandardScaler())\n",
    "                                 ])\n",
    "\n",
    "cat_preparation = Pipeline(steps=[\n",
    "    ('filter_name', Filter_Name(column='Name')),\n",
    "    ('filter_cabin', Filter_Cabin(column='Cabin')),\n",
    "    ('fill_missings', SimpleImputer(strategy='most_frequent')),\n",
    "    ('encoder', OneHotEncoder(sparse_output=False ,handle_unknown='ignore'))\n",
    "])\n",
    "\n",
    "data_preparation = ColumnTransformer(transformers=[\n",
    "    ('numeric_preprocessing', num_preparation, num_features),\n",
    "    ('categorical_preprocessing', cat_preparation, cat_features)\n",
    "])\n",
    "\n",
    "model_pipeline_NN = Pipeline(steps=[('preprocessor', data_preparation)])\n",
    "\n",
    "X_train_transform = model_pipeline_NN.fit_transform(X_train)\n",
    "X_test_transform = model_pipeline_NN.transform(X_test)"
   ]
  },
  {
   "cell_type": "markdown",
   "id": "26b1280c-444c-4c46-8e34-49cdc7000e4f",
   "metadata": {},
   "source": [
    "#### The data is not balanced, which may contribute to not optimal way in which neural networks learn"
   ]
  },
  {
   "cell_type": "code",
   "execution_count": 47,
   "id": "d68e72fe-529f-42f4-8d17-93c98bdff7ad",
   "metadata": {},
   "outputs": [
    {
     "data": {
      "text/plain": [
       "Survived\n",
       "0    0.616573\n",
       "1    0.383427\n",
       "Name: proportion, dtype: float64"
      ]
     },
     "execution_count": 47,
     "metadata": {},
     "output_type": "execute_result"
    }
   ],
   "source": [
    "y_train.value_counts(normalize=True)"
   ]
  },
  {
   "cell_type": "markdown",
   "id": "bd3f726e-09aa-46e4-8704-c44b9cba7eba",
   "metadata": {},
   "source": [
    "#### To solve this issue we will use SMOTE method that will generate additional synthetic data for lower count group"
   ]
  },
  {
   "cell_type": "code",
   "execution_count": 48,
   "id": "95e38976-c0a1-42de-9bc2-b634b168ba68",
   "metadata": {},
   "outputs": [
    {
     "data": {
      "text/plain": [
       "Survived\n",
       "1    0.5\n",
       "0    0.5\n",
       "Name: proportion, dtype: float64"
      ]
     },
     "execution_count": 48,
     "metadata": {},
     "output_type": "execute_result"
    }
   ],
   "source": [
    "smote = SMOTE(random_state=42)\n",
    "X_train_resampled, y_train_resampled = smote.fit_resample(X_train_transform, y_train)\n",
    "y_train_resampled.value_counts(normalize=True)"
   ]
  },
  {
   "cell_type": "markdown",
   "id": "a8ddbec4-003a-40b5-8b97-26ea385e1c72",
   "metadata": {},
   "source": [
    "#### The model for the neural networks is defined and trained"
   ]
  },
  {
   "cell_type": "code",
   "execution_count": 49,
   "id": "f9bba5e5-ac28-4df6-83ab-78933219d0b4",
   "metadata": {},
   "outputs": [
    {
     "name": "stdout",
     "output_type": "stream",
     "text": [
      "Epoch 1/50\n",
      "22/22 - 2s - 70ms/step - Precision: 0.5135 - Recall: 0.2815 - loss: 0.6501 - val_Precision: 0.9821 - val_Recall: 0.3254 - val_loss: 0.7756\n",
      "Epoch 2/50\n",
      "22/22 - 0s - 4ms/step - Precision: 0.8406 - Recall: 0.4296 - loss: 0.5415 - val_Precision: 0.9815 - val_Recall: 0.6272 - val_loss: 0.7663\n",
      "Epoch 3/50\n",
      "22/22 - 0s - 3ms/step - Precision: 0.7778 - Recall: 0.6741 - loss: 0.4869 - val_Precision: 0.9848 - val_Recall: 0.7692 - val_loss: 0.6411\n",
      "Epoch 4/50\n",
      "22/22 - 0s - 3ms/step - Precision: 0.7764 - Recall: 0.7074 - loss: 0.4707 - val_Precision: 0.9774 - val_Recall: 0.7692 - val_loss: 0.6239\n",
      "Epoch 5/50\n",
      "22/22 - 0s - 3ms/step - Precision: 0.7584 - Recall: 0.7556 - loss: 0.4674 - val_Precision: 0.9774 - val_Recall: 0.7692 - val_loss: 0.5726\n",
      "Epoch 6/50\n",
      "22/22 - 0s - 3ms/step - Precision: 0.7708 - Recall: 0.7222 - loss: 0.4353 - val_Precision: 0.9846 - val_Recall: 0.7574 - val_loss: 0.6069\n",
      "Epoch 7/50\n",
      "22/22 - 0s - 3ms/step - Precision: 0.8067 - Recall: 0.7111 - loss: 0.4412 - val_Precision: 0.9846 - val_Recall: 0.7574 - val_loss: 0.5693\n",
      "Epoch 8/50\n",
      "22/22 - 0s - 3ms/step - Precision: 0.7912 - Recall: 0.7296 - loss: 0.4249 - val_Precision: 0.9774 - val_Recall: 0.7692 - val_loss: 0.5447\n",
      "Epoch 9/50\n",
      "22/22 - 0s - 3ms/step - Precision: 0.8122 - Recall: 0.7370 - loss: 0.4231 - val_Precision: 0.9769 - val_Recall: 0.7515 - val_loss: 0.5345\n",
      "Epoch 10/50\n",
      "22/22 - 0s - 4ms/step - Precision: 0.8299 - Recall: 0.7407 - loss: 0.4151 - val_Precision: 0.9762 - val_Recall: 0.7278 - val_loss: 0.5435\n",
      "Epoch 11/50\n",
      "22/22 - 0s - 4ms/step - Precision: 0.8383 - Recall: 0.7296 - loss: 0.4194 - val_Precision: 0.9762 - val_Recall: 0.7278 - val_loss: 0.5204\n",
      "Epoch 12/50\n",
      "22/22 - 0s - 3ms/step - Precision: 0.8761 - Recall: 0.7333 - loss: 0.3994 - val_Precision: 0.9762 - val_Recall: 0.7278 - val_loss: 0.5221\n",
      "Epoch 13/50\n",
      "22/22 - 0s - 3ms/step - Precision: 0.8311 - Recall: 0.6926 - loss: 0.4074 - val_Precision: 0.9762 - val_Recall: 0.7278 - val_loss: 0.5088\n",
      "Epoch 14/50\n",
      "22/22 - 0s - 3ms/step - Precision: 0.8115 - Recall: 0.7333 - loss: 0.4162 - val_Precision: 0.9760 - val_Recall: 0.7219 - val_loss: 0.5175\n",
      "Epoch 15/50\n",
      "22/22 - 0s - 4ms/step - Precision: 0.8603 - Recall: 0.7296 - loss: 0.3963 - val_Precision: 0.9760 - val_Recall: 0.7219 - val_loss: 0.5247\n",
      "Epoch 16/50\n",
      "22/22 - 0s - 4ms/step - Precision: 0.8347 - Recall: 0.7296 - loss: 0.3778 - val_Precision: 0.9767 - val_Recall: 0.7456 - val_loss: 0.4901\n",
      "Epoch 17/50\n",
      "22/22 - 0s - 3ms/step - Precision: 0.8739 - Recall: 0.7444 - loss: 0.3735 - val_Precision: 0.9758 - val_Recall: 0.7160 - val_loss: 0.5315\n",
      "Epoch 18/50\n",
      "22/22 - 0s - 3ms/step - Precision: 0.8733 - Recall: 0.7148 - loss: 0.3754 - val_Precision: 0.9762 - val_Recall: 0.7278 - val_loss: 0.5151\n",
      "Epoch 19/50\n",
      "22/22 - 0s - 3ms/step - Precision: 0.8813 - Recall: 0.7148 - loss: 0.3873 - val_Precision: 0.9762 - val_Recall: 0.7278 - val_loss: 0.5173\n",
      "Epoch 20/50\n",
      "22/22 - 0s - 3ms/step - Precision: 0.8853 - Recall: 0.7148 - loss: 0.3994 - val_Precision: 0.9758 - val_Recall: 0.7160 - val_loss: 0.5166\n",
      "Epoch 21/50\n",
      "22/22 - 0s - 4ms/step - Precision: 0.8472 - Recall: 0.7185 - loss: 0.3933 - val_Precision: 0.9766 - val_Recall: 0.7396 - val_loss: 0.4942\n",
      "Epoch 22/50\n",
      "22/22 - 0s - 4ms/step - Precision: 0.8798 - Recall: 0.7593 - loss: 0.3628 - val_Precision: 0.9760 - val_Recall: 0.7219 - val_loss: 0.5382\n",
      "Epoch 23/50\n",
      "22/22 - 0s - 3ms/step - Precision: 0.8678 - Recall: 0.7296 - loss: 0.3810 - val_Precision: 0.9762 - val_Recall: 0.7278 - val_loss: 0.5152\n",
      "Epoch 24/50\n",
      "22/22 - 0s - 3ms/step - Precision: 0.8976 - Recall: 0.6815 - loss: 0.3690 - val_Precision: 0.9762 - val_Recall: 0.7278 - val_loss: 0.5133\n",
      "Epoch 25/50\n",
      "22/22 - 0s - 4ms/step - Precision: 0.8834 - Recall: 0.7296 - loss: 0.3614 - val_Precision: 0.9762 - val_Recall: 0.7278 - val_loss: 0.5161\n",
      "Epoch 26/50\n",
      "22/22 - 0s - 4ms/step - Precision: 0.8675 - Recall: 0.7519 - loss: 0.3800 - val_Precision: 0.9760 - val_Recall: 0.7219 - val_loss: 0.5277\n",
      "Epoch 27/50\n",
      "22/22 - 0s - 3ms/step - Precision: 0.8930 - Recall: 0.7111 - loss: 0.3487 - val_Precision: 0.9760 - val_Recall: 0.7219 - val_loss: 0.5194\n",
      "Epoch 28/50\n",
      "22/22 - 0s - 4ms/step - Precision: 0.8701 - Recall: 0.7444 - loss: 0.3558 - val_Precision: 0.9762 - val_Recall: 0.7278 - val_loss: 0.5395\n",
      "Epoch 29/50\n",
      "22/22 - 0s - 4ms/step - Precision: 0.8803 - Recall: 0.7630 - loss: 0.3574 - val_Precision: 0.9764 - val_Recall: 0.7337 - val_loss: 0.5081\n",
      "Epoch 30/50\n",
      "22/22 - 0s - 3ms/step - Precision: 0.8783 - Recall: 0.7481 - loss: 0.3532 - val_Precision: 0.9764 - val_Recall: 0.7337 - val_loss: 0.5168\n",
      "Epoch 31/50\n",
      "22/22 - 0s - 3ms/step - Precision: 0.8640 - Recall: 0.7296 - loss: 0.3709 - val_Precision: 0.9762 - val_Recall: 0.7278 - val_loss: 0.5229\n",
      "Epoch 32/50\n",
      "22/22 - 0s - 3ms/step - Precision: 0.8523 - Recall: 0.7481 - loss: 0.3615 - val_Precision: 0.9760 - val_Recall: 0.7219 - val_loss: 0.5148\n",
      "Epoch 33/50\n",
      "22/22 - 0s - 4ms/step - Precision: 0.9005 - Recall: 0.7037 - loss: 0.3619 - val_Precision: 0.9762 - val_Recall: 0.7278 - val_loss: 0.5121\n",
      "Epoch 34/50\n",
      "22/22 - 0s - 4ms/step - Precision: 0.8821 - Recall: 0.7481 - loss: 0.3578 - val_Precision: 0.9764 - val_Recall: 0.7337 - val_loss: 0.5136\n",
      "Epoch 35/50\n",
      "22/22 - 0s - 3ms/step - Precision: 0.8739 - Recall: 0.7185 - loss: 0.3578 - val_Precision: 0.9760 - val_Recall: 0.7219 - val_loss: 0.5240\n",
      "Epoch 36/50\n",
      "22/22 - 0s - 7ms/step - Precision: 0.8673 - Recall: 0.7259 - loss: 0.3537 - val_Precision: 0.9762 - val_Recall: 0.7278 - val_loss: 0.5032\n",
      "Epoch 37/50\n",
      "22/22 - 0s - 3ms/step - Precision: 0.9245 - Recall: 0.7259 - loss: 0.3613 - val_Precision: 0.9762 - val_Recall: 0.7278 - val_loss: 0.4991\n",
      "Epoch 38/50\n",
      "22/22 - 0s - 3ms/step - Precision: 0.8959 - Recall: 0.7333 - loss: 0.3461 - val_Precision: 0.9764 - val_Recall: 0.7337 - val_loss: 0.5025\n",
      "Epoch 39/50\n",
      "22/22 - 0s - 4ms/step - Precision: 0.8795 - Recall: 0.7296 - loss: 0.3564 - val_Precision: 0.9762 - val_Recall: 0.7278 - val_loss: 0.5145\n",
      "Epoch 40/50\n",
      "22/22 - 0s - 3ms/step - Precision: 0.9022 - Recall: 0.7519 - loss: 0.3409 - val_Precision: 0.9764 - val_Recall: 0.7337 - val_loss: 0.4970\n",
      "Epoch 41/50\n",
      "22/22 - 0s - 3ms/step - Precision: 0.9009 - Recall: 0.7407 - loss: 0.3526 - val_Precision: 0.9764 - val_Recall: 0.7337 - val_loss: 0.4996\n",
      "Epoch 42/50\n",
      "22/22 - 0s - 3ms/step - Precision: 0.8839 - Recall: 0.7333 - loss: 0.3652 - val_Precision: 0.9760 - val_Recall: 0.7219 - val_loss: 0.5109\n",
      "Epoch 43/50\n",
      "22/22 - 0s - 3ms/step - Precision: 0.9083 - Recall: 0.7333 - loss: 0.3422 - val_Precision: 0.9762 - val_Recall: 0.7278 - val_loss: 0.4997\n",
      "Epoch 44/50\n",
      "22/22 - 0s - 3ms/step - Precision: 0.8947 - Recall: 0.7556 - loss: 0.3443 - val_Precision: 0.9762 - val_Recall: 0.7278 - val_loss: 0.4996\n",
      "Epoch 45/50\n",
      "22/22 - 0s - 3ms/step - Precision: 0.8761 - Recall: 0.7333 - loss: 0.3357 - val_Precision: 0.9762 - val_Recall: 0.7278 - val_loss: 0.5210\n",
      "Epoch 46/50\n",
      "22/22 - 0s - 4ms/step - Precision: 0.8829 - Recall: 0.7259 - loss: 0.3416 - val_Precision: 0.9762 - val_Recall: 0.7278 - val_loss: 0.5310\n",
      "Epoch 47/50\n",
      "22/22 - 0s - 4ms/step - Precision: 0.8909 - Recall: 0.7259 - loss: 0.3415 - val_Precision: 0.9760 - val_Recall: 0.7219 - val_loss: 0.4984\n",
      "Epoch 48/50\n",
      "22/22 - 0s - 3ms/step - Precision: 0.8938 - Recall: 0.7481 - loss: 0.3335 - val_Precision: 0.9767 - val_Recall: 0.7456 - val_loss: 0.4889\n",
      "Epoch 49/50\n",
      "22/22 - 0s - 5ms/step - Precision: 0.9041 - Recall: 0.7333 - loss: 0.3441 - val_Precision: 0.9758 - val_Recall: 0.7160 - val_loss: 0.5251\n",
      "Epoch 50/50\n",
      "22/22 - 0s - 3ms/step - Precision: 0.9070 - Recall: 0.7222 - loss: 0.3485 - val_Precision: 0.9764 - val_Recall: 0.7337 - val_loss: 0.4974\n"
     ]
    }
   ],
   "source": [
    "model = Sequential([\n",
    "    tf.keras.Input(shape=(X_train_resampled.shape[1],)),\n",
    "    Dense(128, activation='relu'),\n",
    "    Dropout(0.35),\n",
    "    Dense(64, activation='relu'),\n",
    "    Dropout(0.35),\n",
    "    Dense(32, activation='relu'),\n",
    "    Dropout(0.35),\n",
    "    Dense(1, activation='sigmoid')\n",
    "])\n",
    "\n",
    "model.compile(optimizer=Adam(learning_rate=0.001),\n",
    "              loss='binary_crossentropy',\n",
    "              metrics=['Precision', 'Recall'])\n",
    "\n",
    "history = model.fit(X_train_resampled, y_train_resampled, epochs=50, batch_size=32, validation_split=0.2, verbose=2)"
   ]
  },
  {
   "cell_type": "markdown",
   "id": "6e88493b-61af-4fea-b453-bfd3e94bc18a",
   "metadata": {},
   "source": [
    "#### For the trained model and test data, the optimal threshold was checked to maximize the result"
   ]
  },
  {
   "cell_type": "code",
   "execution_count": 50,
   "id": "9ebe855b-ee62-4f80-a5b7-24dedfc0ed0b",
   "metadata": {},
   "outputs": [
    {
     "name": "stdout",
     "output_type": "stream",
     "text": [
      "\u001b[1m6/6\u001b[0m \u001b[32m━━━━━━━━━━━━━━━━━━━━\u001b[0m\u001b[37m\u001b[0m \u001b[1m0s\u001b[0m 6ms/step \n",
      "              precision    recall  f1-score   support\n",
      "\n",
      "           0       0.89      0.79      0.84       110\n",
      "           1       0.72      0.84      0.77        69\n",
      "\n",
      "    accuracy                           0.81       179\n",
      "   macro avg       0.80      0.82      0.80       179\n",
      "weighted avg       0.82      0.81      0.81       179\n",
      "\n"
     ]
    },
    {
     "data": {
      "image/png": "[encoded data removed]",
      "text/plain": [
       "<Figure size 640x480 with 2 Axes>"
      ]
     },
     "metadata": {},
     "output_type": "display_data"
    }
   ],
   "source": [
    "y_pred_prob = model.predict(X_test_transform)\n",
    "max_tresh = max_treshold(y_pred_prob,  y_test)\n",
    "y_pred = (y_pred_prob > max_tresh).astype(int)\n",
    "metrics_df = result_summary(\"Neural Network\", y_pred, metrics_df, y_test)"
   ]
  },
  {
   "cell_type": "markdown",
   "id": "d5ae72e8-6ef0-4f13-ad03-f1f0c6bfc9ca",
   "metadata": {},
   "source": [
    "#### Display of final results"
   ]
  },
  {
   "cell_type": "code",
   "execution_count": 51,
   "id": "c9728883-ab01-43ac-a547-d61e860bb60a",
   "metadata": {},
   "outputs": [
    {
     "data": {
      "text/html": [
       "<style type=\"text/css\">\n",
       "</style>\n",
       "<table id=\"T_bc2fd\">\n",
       "  <thead>\n",
       "    <tr>\n",
       "      <th id=\"T_bc2fd_level0_col0\" class=\"col_heading level0 col0\" >Classifier</th>\n",
       "      <th id=\"T_bc2fd_level0_col1\" class=\"col_heading level0 col1\" >Survived</th>\n",
       "      <th id=\"T_bc2fd_level0_col2\" class=\"col_heading level0 col2\" >Precision</th>\n",
       "      <th id=\"T_bc2fd_level0_col3\" class=\"col_heading level0 col3\" >Recall</th>\n",
       "      <th id=\"T_bc2fd_level0_col4\" class=\"col_heading level0 col4\" >F1-score</th>\n",
       "    </tr>\n",
       "  </thead>\n",
       "  <tbody>\n",
       "    <tr>\n",
       "      <td id=\"T_bc2fd_row0_col0\" class=\"data row0 col0\" >LogisticRegression</td>\n",
       "      <td id=\"T_bc2fd_row0_col1\" class=\"data row0 col1\" >0</td>\n",
       "      <td id=\"T_bc2fd_row0_col2\" class=\"data row0 col2\" >0.866667</td>\n",
       "      <td id=\"T_bc2fd_row0_col3\" class=\"data row0 col3\" >0.827273</td>\n",
       "      <td id=\"T_bc2fd_row0_col4\" class=\"data row0 col4\" >0.846512</td>\n",
       "    </tr>\n",
       "    <tr>\n",
       "      <td id=\"T_bc2fd_row1_col0\" class=\"data row1 col0\" >LogisticRegression</td>\n",
       "      <td id=\"T_bc2fd_row1_col1\" class=\"data row1 col1\" >1</td>\n",
       "      <td id=\"T_bc2fd_row1_col2\" class=\"data row1 col2\" >0.743243</td>\n",
       "      <td id=\"T_bc2fd_row1_col3\" class=\"data row1 col3\" >0.797101</td>\n",
       "      <td id=\"T_bc2fd_row1_col4\" class=\"data row1 col4\" >0.769231</td>\n",
       "    </tr>\n",
       "    <tr>\n",
       "      <td id=\"T_bc2fd_row2_col0\" class=\"data row2 col0\" >Random Forest</td>\n",
       "      <td id=\"T_bc2fd_row2_col1\" class=\"data row2 col1\" >0</td>\n",
       "      <td id=\"T_bc2fd_row2_col2\" class=\"data row2 col2\" >0.817391</td>\n",
       "      <td id=\"T_bc2fd_row2_col3\" class=\"data row2 col3\" >0.854545</td>\n",
       "      <td id=\"T_bc2fd_row2_col4\" class=\"data row2 col4\" >0.835556</td>\n",
       "    </tr>\n",
       "    <tr>\n",
       "      <td id=\"T_bc2fd_row3_col0\" class=\"data row3 col0\" >Random Forest</td>\n",
       "      <td id=\"T_bc2fd_row3_col1\" class=\"data row3 col1\" >1</td>\n",
       "      <td id=\"T_bc2fd_row3_col2\" class=\"data row3 col2\" >0.750000</td>\n",
       "      <td id=\"T_bc2fd_row3_col3\" class=\"data row3 col3\" >0.695652</td>\n",
       "      <td id=\"T_bc2fd_row3_col4\" class=\"data row3 col4\" >0.721805</td>\n",
       "    </tr>\n",
       "    <tr>\n",
       "      <td id=\"T_bc2fd_row4_col0\" class=\"data row4 col0\" >Neural Network</td>\n",
       "      <td id=\"T_bc2fd_row4_col1\" class=\"data row4 col1\" >0</td>\n",
       "      <td id=\"T_bc2fd_row4_col2\" class=\"data row4 col2\" >0.887755</td>\n",
       "      <td id=\"T_bc2fd_row4_col3\" class=\"data row4 col3\" >0.790909</td>\n",
       "      <td id=\"T_bc2fd_row4_col4\" class=\"data row4 col4\" >0.836538</td>\n",
       "    </tr>\n",
       "    <tr>\n",
       "      <td id=\"T_bc2fd_row5_col0\" class=\"data row5 col0\" >Neural Network</td>\n",
       "      <td id=\"T_bc2fd_row5_col1\" class=\"data row5 col1\" >1</td>\n",
       "      <td id=\"T_bc2fd_row5_col2\" class=\"data row5 col2\" >0.716049</td>\n",
       "      <td id=\"T_bc2fd_row5_col3\" class=\"data row5 col3\" >0.840580</td>\n",
       "      <td id=\"T_bc2fd_row5_col4\" class=\"data row5 col4\" >0.773333</td>\n",
       "    </tr>\n",
       "  </tbody>\n",
       "</table>\n"
      ],
      "text/plain": [
       "<pandas.io.formats.style.Styler at 0x1b25e834a40>"
      ]
     },
     "execution_count": 51,
     "metadata": {},
     "output_type": "execute_result"
    }
   ],
   "source": [
    "metrics_df.style.hide(axis=\"index\")"
   ]
  },
  {
   "cell_type": "markdown",
   "id": "574c4d23-20f1-4790-9576-a123c9413d3e",
   "metadata": {},
   "source": [
    "### Summary\n",
    "#### All received results are comperable and on similar level. \n",
    "#### LogisticRegression showed solid results, with a balance between Precision 0.743 and Recall 0.797, resulting in an F1 Score of 0.769. The result suggests that the model identifies survivors well while keeping the number of false positives relatively low.\n",
    "#### The decision tree model showed a slightly higher Precision of 0.75 compared to LogisticRegression, meaning that it is slightly more likely to misclassify nonsurvivors as survivors. Recall of 0.695 and F1 Score of 0.721 are good, but do not outperform the simpler Logistic Regression model. Random Forest may be better in scenarios where more complex features and relationships are available.\n",
    "#### The NN model achieved the highest Recall of 0.84, which means it is the most effective in detecting survivors. F1 Score 0.77 is very good, which suggests that Neural Network may be the best choice if we want maximum survivor detection."
   ]
  },
  {
   "cell_type": "code",
   "execution_count": null,
   "id": "76f484f1-73a2-47ef-8ac4-c95920c004bb",
   "metadata": {},
   "outputs": [],
   "source": []
  }
 ],
 "metadata": {
  "kernelspec": {
   "display_name": "Python 3 (ipykernel)",
   "language": "python",
   "name": "python3"
  },
  "language_info": {
   "codemirror_mode": {
    "name": "ipython",
    "version": 3
   },
   "file_extension": ".py",
   "mimetype": "text/x-python",
   "name": "python",
   "nbconvert_exporter": "python",
   "pygments_lexer": "ipython3",
   "version": "3.12.7"
  }
 },
 "nbformat": 4,
 "nbformat_minor": 5
}
